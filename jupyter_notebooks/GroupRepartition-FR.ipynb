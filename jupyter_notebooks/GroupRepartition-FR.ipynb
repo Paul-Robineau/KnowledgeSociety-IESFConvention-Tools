{
 "cells": [
  {
   "cell_type": "markdown",
   "id": "0f1b8f44-a63d-414d-b4ff-e1a531665244",
   "metadata": {},
   "source": [
    "<div style=\"border: 2px solid #575757; padding: 10px; border-radius: 5px; background-color: #e1e1e1; color: black; text-align: center;\">\n",
    "  <h1 style=\"margin: 0;\">Répartition des groupes thématiques</h1>\n",
    "</div>"
   ]
  },
  {
   "cell_type": "markdown",
   "id": "98c3cead-e034-42d2-852c-9d681638db26",
   "metadata": {},
   "source": [
    "<div style=\"border: 2px solid #FFA500; padding: 10px; border-radius: 5px; background-color: #FFFACD; color: black; text-align: center;\">\n",
    "  <h2 style=\"margin: 0;\">Importation des librairies</h2>\n",
    "</div>"
   ]
  },
  {
   "cell_type": "markdown",
   "id": "0f467d02-9a23-486f-a7a8-98fb57b20914",
   "metadata": {},
   "source": [
    "**Ce bloc importe les bibliothèques nécessaires :**\n",
    "- pandas pour manipuler les données tabulaires\n",
    "- pulp pour la résolution du problème d’optimisation (programmation linéaire)\n",
    "- random pour la génération aléatoire\n",
    "- math pour les calculs liés à l’équilibre des genres\n",
    "- tqdm pour afficher une barre de progression de l'algorithme quand nécessaire\n",
    "- matplotlib et seaborn pour la génération de graphe\n",
    "\n",
    "**On définit aussi les paramètres principaux :**\n",
    "- 50 individus à répartir\n",
    "- 5 groupes de 10 personnes chacun\n",
    "- 3 genres possibles : H (homme), F (femme), N (neutre/non binaire)"
   ]
  },
  {
   "cell_type": "code",
   "execution_count": 1,
   "id": "fadae4c0-bde4-4909-8ca2-ab3937eeef29",
   "metadata": {},
   "outputs": [],
   "source": [
    "# Librairies nécessaires\n",
    "import pandas as pd\n",
    "import numpy as np\n",
    "import pulp\n",
    "import random\n",
    "import math\n",
    "from tqdm import tqdm\n",
    "import matplotlib.pyplot as plt\n",
    "import matplotlib.colors as mcolors\n",
    "import seaborn as sns\n",
    "\n",
    "# Paramètres globaux\n",
    "N_INDIVIDUS = 50\n",
    "N_GROUPES = 5\n",
    "TAILLE_GROUPE = 10\n",
    "GENRES = ['H', 'F', 'NB']"
   ]
  },
  {
   "cell_type": "markdown",
   "id": "7df4294e-a43d-4b92-bfdc-173d8c79b7b1",
   "metadata": {},
   "source": [
    "<div style=\"border: 2px solid rgba(0, 158, 115, 1); padding: 10px; border-radius: 5px; background-color: rgba(0, 158, 115, 0.3); color: black; text-align: center;\">\n",
    "  <h2 style=\"margin: 0;\">Génération aléatoire de groupes (pour test)</h2>\n",
    "</div>"
   ]
  },
  {
   "cell_type": "markdown",
   "id": "0827dd94-64ff-481c-9173-6309188e49ea",
   "metadata": {},
   "source": [
    "**On génère un example aléatoirement pour tester le notebook :**\n",
    "- Chaque individu exprime 5 préférences\n",
    "    - groupes classés de 1 à 5 sans doublon\n",
    "    - colonnes indiquant l'ordre des préférences\n",
    "    - nombre dans une cellule associé au n° du groupe\n",
    "- Un genre aléatoire est assigné\n",
    "- Les données sont sauvegardées dans un fichier CSV *preferences.csv*"
   ]
  },
  {
   "cell_type": "code",
   "execution_count": 3,
   "id": "073fcfdc-29aa-491a-ad5a-2dd1a930e7dc",
   "metadata": {},
   "outputs": [
    {
     "data": {
      "text/html": [
       "<div>\n",
       "<style scoped>\n",
       "    .dataframe tbody tr th:only-of-type {\n",
       "        vertical-align: middle;\n",
       "    }\n",
       "\n",
       "    .dataframe tbody tr th {\n",
       "        vertical-align: top;\n",
       "    }\n",
       "\n",
       "    .dataframe thead th {\n",
       "        text-align: right;\n",
       "    }\n",
       "</style>\n",
       "<table border=\"1\" class=\"dataframe\">\n",
       "  <thead>\n",
       "    <tr style=\"text-align: right;\">\n",
       "      <th></th>\n",
       "      <th>Individu</th>\n",
       "      <th>Préférence 1</th>\n",
       "      <th>Préférence 2</th>\n",
       "      <th>Préférence 3</th>\n",
       "      <th>Préférence 4</th>\n",
       "      <th>Préférence 5</th>\n",
       "      <th>Genre</th>\n",
       "    </tr>\n",
       "  </thead>\n",
       "  <tbody>\n",
       "    <tr>\n",
       "      <th>0</th>\n",
       "      <td>Individu 1</td>\n",
       "      <td>4</td>\n",
       "      <td>1</td>\n",
       "      <td>5</td>\n",
       "      <td>3</td>\n",
       "      <td>2</td>\n",
       "      <td>H</td>\n",
       "    </tr>\n",
       "    <tr>\n",
       "      <th>1</th>\n",
       "      <td>Individu 2</td>\n",
       "      <td>3</td>\n",
       "      <td>1</td>\n",
       "      <td>5</td>\n",
       "      <td>2</td>\n",
       "      <td>4</td>\n",
       "      <td>H</td>\n",
       "    </tr>\n",
       "    <tr>\n",
       "      <th>2</th>\n",
       "      <td>Individu 3</td>\n",
       "      <td>1</td>\n",
       "      <td>2</td>\n",
       "      <td>5</td>\n",
       "      <td>4</td>\n",
       "      <td>3</td>\n",
       "      <td>H</td>\n",
       "    </tr>\n",
       "    <tr>\n",
       "      <th>3</th>\n",
       "      <td>Individu 4</td>\n",
       "      <td>4</td>\n",
       "      <td>2</td>\n",
       "      <td>1</td>\n",
       "      <td>5</td>\n",
       "      <td>3</td>\n",
       "      <td>NB</td>\n",
       "    </tr>\n",
       "    <tr>\n",
       "      <th>4</th>\n",
       "      <td>Individu 5</td>\n",
       "      <td>1</td>\n",
       "      <td>2</td>\n",
       "      <td>3</td>\n",
       "      <td>4</td>\n",
       "      <td>5</td>\n",
       "      <td>NB</td>\n",
       "    </tr>\n",
       "  </tbody>\n",
       "</table>\n",
       "</div>"
      ],
      "text/plain": [
       "     Individu  Préférence 1  Préférence 2  Préférence 3  Préférence 4  \\\n",
       "0  Individu 1             4             1             5             3   \n",
       "1  Individu 2             3             1             5             2   \n",
       "2  Individu 3             1             2             5             4   \n",
       "3  Individu 4             4             2             1             5   \n",
       "4  Individu 5             1             2             3             4   \n",
       "\n",
       "   Préférence 5 Genre  \n",
       "0             2     H  \n",
       "1             4     H  \n",
       "2             3     H  \n",
       "3             3    NB  \n",
       "4             5    NB  "
      ]
     },
     "execution_count": 3,
     "metadata": {},
     "output_type": "execute_result"
    }
   ],
   "source": [
    "# Générer les préférences et les genres aléatoirement\n",
    "preferences = [random.sample(range(1, N_GROUPES + 1), 5) for _ in range(N_INDIVIDUS)]\n",
    "genres = [random.choice(GENRES) for _ in range(N_INDIVIDUS)]\n",
    "\n",
    "# Construction du DataFrame\n",
    "headers = [\"Préférence 1\", \"Préférence 2\", \"Préférence 3\", \"Préférence 4\", \"Préférence 5\"]\n",
    "df = pd.DataFrame(preferences, columns=headers)\n",
    "df.insert(0, \"Individu\", [f\"Individu {i+1}\" for i in range(N_INDIVIDUS)])\n",
    "df[\"Genre\"] = genres\n",
    "\n",
    "# Export CSV\n",
    "df.to_csv(\"../data/preferences.csv\", index=False)\n",
    "df.head()"
   ]
  },
  {
   "cell_type": "markdown",
   "id": "350a0c29-014d-4f18-9a6d-e6ac418744b9",
   "metadata": {},
   "source": [
    "<div style=\"border: 2px solid #FFA500; padding: 10px; border-radius: 5px; background-color: #FFFACD; color: black; text-align: center;\">\n",
    "  <h2 style=\"margin: 0;\">Lecture du fichier et scores de préférence</h2>\n",
    "</div>"
   ]
  },
  {
   "cell_type": "markdown",
   "id": "97bcbb49-d855-4bb4-af0c-26c49af80fa5",
   "metadata": {},
   "source": [
    "**On lit les préférences depuis le CSV.**\n",
    "\n",
    "**Chaque individu a un score de préférence (minimisation de sa dissatisfaction) pour chaque groupe :**\n",
    "- 0 pour son 1er choix\n",
    "- 1 pour le 2e, … jusqu’à 4\n",
    "- Si un groupe n’est pas dans ses 5 choix, on lui attribue 5\n",
    "\n",
    "**On trace une *heatmap* pour visualiser la répartition des préférences**"
   ]
  },
  {
   "cell_type": "code",
   "execution_count": 5,
   "id": "22328bda-21a1-423b-9342-fbf0673113bf",
   "metadata": {},
   "outputs": [
    {
     "data": {
      "image/png": "[encoded data removed]",
      "text/plain": [
       "<Figure size 400x800 with 2 Axes>"
      ]
     },
     "metadata": {},
     "output_type": "display_data"
    }
   ],
   "source": [
    "# Charger le fichier CSV (avec en-têtes)\n",
    "df = pd.read_csv(\"../data/preferences.csv\")\n",
    "\n",
    "# Extraire les préférences (colonnes Groupe 1 à 5) et le genre\n",
    "preferences = df.loc[:, [\"Préférence 1\", \"Préférence 2\", \"Préférence 3\", \"Préférence 4\", \"Préférence 5\"]].astype(int).values\n",
    "genres = df[\"Genre\"].values\n",
    "\n",
    "# Générer les scores de préférence : 0 (1er choix), ..., 4 (5e choix), 5 si non choisi\n",
    "score_pref = [[5] * N_GROUPES for _ in range(N_INDIVIDUS)] # Initialiser une matrice de score de taille (N_INDIVIDUS, N_GROUPES)\n",
    "# Pour chaque individu i, lecture des préférences p pour groupes g\n",
    "for i in range(N_INDIVIDUS):\n",
    "    for p, g in enumerate(preferences[i]):\n",
    "        score_pref[i][g - 1] = p  # g - 1 pour indexer les groupes de 0 à N-1\n",
    "\n",
    "# score_pref[i][j] représente le niveau de dissatisfaction (0 à 5) que l'individu i aurait s’il était affecté au groupe j.\n",
    "\n",
    "# Noms des groupes (index colonnes)\n",
    "group_names = [f\"Groupe {i+1}\" for i in range(N_GROUPES)]\n",
    "\n",
    "# Création d'un DataFrame (individus en lignes, groupes en colonnes)\n",
    "df_scores = pd.DataFrame(score_pref, columns=group_names)\n",
    "\n",
    "# Définir les bornes pour chaque valeur entière (de -0.5 à 5.5 pour couvrir 0 à 5)\n",
    "bounds = [-0.5 + i for i in range(7)]  # [-0.5, 0.5, 1.5, ..., 5.5]\n",
    "\n",
    "# Normalisation discrète pour les couleurs de la heatmap\n",
    "norm = mcolors.BoundaryNorm(bounds, ncolors=256)\n",
    "\n",
    "# Création de la heatmap\n",
    "plt.figure(figsize=(4, 8))\n",
    "ax = sns.heatmap(df_scores, cmap=\"YlOrBr_r\", linewidths=0.5, linecolor='gray', norm=norm, \n",
    "                 cbar_kws={'ticks': range(6), 'label': 'Score de dissatisfaction', 'shrink': 0.5})\n",
    "\n",
    "# Ajustement visuel de la colorbar\n",
    "cbar = ax.collections[0].colorbar\n",
    "cbar.ax.tick_params(length=0)\n",
    "\n",
    "# Ajustement visuel de la figure\n",
    "plt.title(\"Carte des préférences \\n (0 = 1er choix, 5 = non choisi)\")\n",
    "plt.xlabel(\"\")\n",
    "plt.xticks(rotation=45, ha='right')\n",
    "plt.ylabel(\"Individus\")\n",
    "plt.yticks(rotation=0)\n",
    "plt.tight_layout()\n",
    "# Décommenter la ligne suivante pour exporter le graphique en .png\n",
    "# plt.savefig('Individuals_ScorePref.png', dpi=300, bbox_inches=\"tight\")\n",
    "plt.show()"
   ]
  },
  {
   "cell_type": "markdown",
   "id": "6810fbe1-7a36-474b-be64-296a867467fc",
   "metadata": {},
   "source": [
    "<div style=\"border: 2px solid #FFA500; padding: 10px; border-radius: 5px; background-color: #FFFACD; color: black; text-align: center;\">\n",
    "  <h2 style=\"margin: 0;\">Résolution initiale</h2>\n",
    "</div>"
   ]
  },
  {
   "cell_type": "markdown",
   "id": "d581d97b-424e-4e9d-8c20-c875b078de07",
   "metadata": {},
   "source": [
    "**On résout le problème d’affectation ainsi :**\n",
    "- chaque individu est affecté à un seul groupe\n",
    "- chaque groupe contient exactement 10 personnes\n",
    "- on minimise la somme des scores de préférence (plus la somme est basse, plus les individus sont proches de leur 1er choix)"
   ]
  },
  {
   "cell_type": "code",
   "execution_count": 6,
   "id": "7a483d8c-da65-4f58-8b7a-a09b45ed1c1b",
   "metadata": {},
   "outputs": [
    {
     "name": "stdout",
     "output_type": "stream",
     "text": [
      "Valeur optimale trouvée : 4.0\n"
     ]
    }
   ],
   "source": [
    "# On crée un problème linéaire nommé \"Affectation\"\n",
    "# pulp.LpMinimize signifie que l’objectif sera de minimiser une fonction coût (ici la \"satisfaction\" globale inversée)\n",
    "prob = pulp.LpProblem(\"Affectation\", pulp.LpMinimize)\n",
    "\n",
    "# x[i][j] est une variable binaire (0 ou 1) indiquant si l’individu i est affecté au groupe j\n",
    "# La liste x est une matrice N_INDIVIDUS x N_GROUPES de variables\n",
    "# Exemple : x[2][4] = 1 signifie que la personne 2 est dans le groupe 4\n",
    "x = [[pulp.LpVariable(f\"x_{i}_{j}\", cat=\"Binary\") for j in range(N_GROUPES)] for i in range(N_INDIVIDUS)]\n",
    "\n",
    "# Contrainte 1 : chaque personne dans un seul groupe\n",
    "# Pour chaque individu i, la somme des variables binaires x[i][j] sur tous les groupes j doit être égale à 1\n",
    "for i in range(N_INDIVIDUS):\n",
    "    prob += pulp.lpSum(x[i]) == 1\n",
    "\n",
    "# Contrainte 2 : 10 personnes par groupe\n",
    "# Pour chaque groupe j, la somme des personnes affectées (x[i][j] pour tous les i) doit être égale à la taille fixe du groupe\n",
    "for j in range(N_GROUPES):\n",
    "    prob += pulp.lpSum(x[i][j] for i in range(N_INDIVIDUS)) == TAILLE_GROUPE\n",
    "\n",
    "# Fonction objectif : minimiser le score total\n",
    "# score_pref[i][j] est le \"coût\" ou \"score de mécontentement\" si la personne i est dans le groupe j \n",
    "# (0 = 1er choix, 1 = 2e, ..., 5 = non choisi).\n",
    "prob += pulp.lpSum(x[i][j] * score_pref[i][j] for i in range(N_INDIVIDUS) for j in range(N_GROUPES))\n",
    "\n",
    "# Résolution\n",
    "solver = pulp.PULP_CBC_CMD(msg=0) # msg = 1 ou 0 selon qu'on veut l'affichage des messages ou non\n",
    "prob.solve(solver)\n",
    "optimal_value = pulp.value(prob.objective)\n",
    "\n",
    "print(\"Valeur optimale trouvée :\", optimal_value)"
   ]
  },
  {
   "cell_type": "markdown",
   "id": "c3b8ada2-cac8-4c5c-8309-09cc222815ae",
   "metadata": {},
   "source": [
    "<div style=\"border: 2px solid #FFA500; padding: 10px; border-radius: 5px; background-color: #FFFACD; color: black; text-align: center;\">\n",
    "  <h2 style=\"margin: 0;\">Génération des solutions optimales</h2>\n",
    "</div>"
   ]
  },
  {
   "cell_type": "markdown",
   "id": "99b07684-5e9e-4f26-9716-2e4ce161250f",
   "metadata": {},
   "source": [
    "**On génère toutes les solutions optimales différentes :**\n",
    "- ayant le même score minimum\n",
    "- en interdisant à chaque tour la dernière solution trouvée (pour éviter les doublons)\n",
    "\n",
    "**Pour 50 personnes à répartir en 5 groupes de 10 :**\n",
    "- Peut prendre longtemps (jusqu'à 1 h durant les tests) si toutes les combinaisons sont équivalentes\n",
    "- Peut prendre 10 s à peine si le nombre de solutions optimales est faible\n",
    "- Ne peut pas être anticipé à l'avance..."
   ]
  },
  {
   "cell_type": "code",
   "execution_count": 7,
   "id": "40622c90-672e-4fcf-ace1-191b1c173bf9",
   "metadata": {},
   "outputs": [
    {
     "name": "stdout",
     "output_type": "stream",
     "text": [
      "Nombre de permutations de préférences par personne : 120\n",
      "Nombre maximum théorique de solutions à générer : 600\n",
      "Nombre maximum de solutions à générer après application de la borne de sécurité = 1000 : 600\n"
     ]
    },
    {
     "name": "stderr",
     "output_type": "stream",
     "text": [
      "Recherche de solutions optimales 🔄: 11it [00:00, 49.47it/s]"
     ]
    },
    {
     "name": "stdout",
     "output_type": "stream",
     "text": [
      "12 solutions optimales générées.\n"
     ]
    },
    {
     "name": "stderr",
     "output_type": "stream",
     "text": [
      "\n"
     ]
    }
   ],
   "source": [
    "# Définir une limite dynamique de solutions à générer (commenter pour désactiver)\n",
    "LIMIT_RATIO = 0.1  # 10% des permutations de préférences possibles\n",
    "PREF_PERMS_PAR_PERSONNE = math.factorial(N_GROUPES)\n",
    "print(\"Nombre de permutations de préférences par personne :\", PREF_PERMS_PAR_PERSONNE)\n",
    "MAX_SOLUTIONS = int(LIMIT_RATIO * PREF_PERMS_PAR_PERSONNE * N_INDIVIDUS)\n",
    "print(\"Nombre maximum théorique de solutions à générer :\", MAX_SOLUTIONS)\n",
    "MAX_SOLUTIONS = min(MAX_SOLUTIONS, 1000)  # Borne de sécurité\n",
    "print(\"Nombre maximum de solutions à générer après application de la borne de sécurité = 1000 :\", MAX_SOLUTIONS)\n",
    "\n",
    "# Initialisation de la liste de solutions\n",
    "solutions = []\n",
    "\n",
    "# Première solution archivée dans la liste\n",
    "current_solution = [[int(pulp.value(x[i][j])) for j in range(N_GROUPES)] for i in range(N_INDIVIDUS)]\n",
    "solutions.append(current_solution)\n",
    "\n",
    "# Pour pouvoir comparer avec les solutions suivantes\n",
    "# On stocke une string dans solution_set pour détecter rapidement les doublons\n",
    "solution_set = {str(current_solution)}\n",
    "\n",
    "# Affichage de progression dynamique\n",
    "pbar = tqdm(total=None, desc=\"Recherche de solutions optimales 🔄\")\n",
    "\n",
    "# Recherche d'autres solutions\n",
    "while True:\n",
    "    # Interdire la dernière solution trouvée\n",
    "    # Pour chaque variable binaire x[i][j], \n",
    "    # Si elle vaut actuellement 1, on prend (1 - x[i][j])\n",
    "    # Sinon on prend x[i][j]\n",
    "    constraint = pulp.lpSum([\n",
    "        (1 - x[i][j] if current_solution[i][j] == 1 else x[i][j])\n",
    "        for i in range(N_INDIVIDUS) for j in range(N_GROUPES)\n",
    "    ])\n",
    "    # La somme au moins égale à 1 implique qu'au moins une variable doit changer de valeur\n",
    "    # Donc la solution sera différente\n",
    "    prob += constraint >= 1\n",
    "\n",
    "    # Relance la résolution, avec la contrainte d’exclusion\n",
    "    prob.solve(solver)\n",
    "\n",
    "    # On sort de la boucle si on ne trouve plus de nouvelle solution optimale\n",
    "    if pulp.LpStatus[prob.status] != \"Optimal\" or pulp.value(prob.objective) != optimal_value:\n",
    "        break\n",
    "\n",
    "    # Si nouvelle solution\n",
    "    current_solution = [[int(pulp.value(x[i][j])) for j in range(N_GROUPES)] for i in range(N_INDIVIDUS)]\n",
    "    # On la stocke comme string\n",
    "    sol_str = str(current_solution)\n",
    "    # On la compare aux autres strings dans solution_set\n",
    "    # Si unique, on l'ajoute\n",
    "    if sol_str not in solution_set:\n",
    "        solutions.append(current_solution)\n",
    "        solution_set.add(sol_str)\n",
    "        pbar.update(1) # update Affichage de progression\n",
    "\n",
    "        # Affichage intermittent toutes les 100 solutions\n",
    "        if len(solutions) % 100 == 0:\n",
    "            print(f\"{len(solutions)} solutions trouvées...\")\n",
    "\n",
    "        # Si critère de coupure activé et atteint, on sort\n",
    "        if 'MAX_SOLUTIONS' in globals() and len(solutions) >= MAX_SOLUTIONS:\n",
    "            print(f\"⚠️ Arrêt anticipé après {MAX_SOLUTIONS} solutions.\")\n",
    "            break\n",
    "\n",
    "pbar.close()\n",
    "print(f\"{len(solutions)} solutions optimales générées.\")"
   ]
  },
  {
   "cell_type": "markdown",
   "id": "9035cb8e-7e8c-4e5b-856f-3e7932147c50",
   "metadata": {},
   "source": [
    "<div style=\"border: 2px solid #FFA500; padding: 10px; border-radius: 5px; background-color: #FFFACD; color: black; text-align: center;\">\n",
    "  <h2 style=\"margin: 0;\">Mesure du déséquilibre de genre pour chaque solution</h2>\n",
    "</div>"
   ]
  },
  {
   "cell_type": "markdown",
   "id": "0f63f542-1e37-4767-b4ea-7e0b4a749030",
   "metadata": {},
   "source": [
    "**On évalue pour chaque solution :**\n",
    "- son déséquilibre de genre dans chaque groupe\n",
    "- via une mesure de variance\n",
    "- moins il y a de variance, plus la répartition est équilibrée"
   ]
  },
  {
   "cell_type": "code",
   "execution_count": 8,
   "id": "b0bb57e4-e7ab-4f0d-a800-6ac54a60811a",
   "metadata": {},
   "outputs": [],
   "source": [
    "# Initialisation de la liste d'équilibres genrés\n",
    "balances = []\n",
    "\n",
    "# On parcours toutes les solutions\n",
    "for sol in solutions:\n",
    "    \n",
    "    # Valeur initiale à 0 (postulat d'équilibre)\n",
    "    total_variance = 0\n",
    "    \n",
    "    # Pour chaque groupe j, liste des membres via indices des individus du groupe\n",
    "    for j in range(N_GROUPES):\n",
    "        membres = [i for i in range(N_INDIVIDUS) if sol[i][j] == 1]\n",
    "        \n",
    "        # Pour chaque membre i du groupe, genre récupéré via genres[i] et on incrémente counts\n",
    "        counts = {\"H\": 0, \"F\": 0, \"NB\": 0}\n",
    "        for i in membres:\n",
    "            counts[genres[i]] += 1\n",
    "        \n",
    "        # Liste des effectifs par genre, ex. [4, 4, 2]\n",
    "        valeurs = list(counts.values())\n",
    "        moyenne = sum(valeurs) / len(valeurs)\n",
    "        \n",
    "        # Variance : éloignement de la moyenne\n",
    "        variance = sum((v - moyenne)**2 for v in valeurs) / len(valeurs)\n",
    "        \n",
    "        # Écart-type : déséquilibre de la répartition genrée dans le groupe\n",
    "        # On incrémente total_variance avec l'écart-type de chaque groupe\n",
    "        # Donne le déséquilibre global de la solution parcourue\n",
    "        total_variance += math.sqrt(variance)\n",
    "    \n",
    "    # Stockage du résultat\n",
    "    balances.append(total_variance)"
   ]
  },
  {
   "cell_type": "markdown",
   "id": "ddfc02d9-544f-4f57-a183-d7a28f7678c3",
   "metadata": {},
   "source": [
    "<div style=\"border: 2px solid #FFA500; padding: 10px; border-radius: 5px; background-color: #FFFACD; color: black; text-align: center;\">\n",
    "  <h2 style=\"margin: 0;\">Tirage au sort pondéré</h2>\n",
    "</div>"
   ]
  },
  {
   "cell_type": "markdown",
   "id": "e1d34286-fe50-4618-b819-68b42316222f",
   "metadata": {},
   "source": [
    "**Un tirage au sort est effectué parmi toutes les solutions optimales**\n",
    "\n",
    "**Les solutions mieux équilibrées en genre :**\n",
    "- ont plus de chances d’être sélectionnées\n",
    "- pondération via l'inverse de la variance"
   ]
  },
  {
   "cell_type": "code",
   "execution_count": 9,
   "id": "c7dfa30d-6054-4694-8761-428ede4ce399",
   "metadata": {},
   "outputs": [
    {
     "name": "stdout",
     "output_type": "stream",
     "text": [
      "Solution tirée au sort avec balance : 6.94\n"
     ]
    }
   ],
   "source": [
    "# Pondération inversement proportionnelle au déséquilibre de genre\n",
    "# 1 + X pour éviter une division par 0\n",
    "weights = [1 / (1 + b) for b in balances]\n",
    "\n",
    "# Normalisation des poids pour obtenir des probabilités\n",
    "somme = sum(weights)\n",
    "probas = [w / somme for w in weights]\n",
    "\n",
    "# Tirage aléatoire pondéré d'une unique solution\n",
    "index = random.choices(range(len(solutions)), weights=probas, k=1)[0]\n",
    "solution_choisie = solutions[index]\n",
    "\n",
    "# On affiche le score de déséquilibre de la solution choisie\n",
    "# Plus proche de 0 mieux c'est\n",
    "print(f\"Solution tirée au sort avec balance : {balances[index]:.2f}\")"
   ]
  },
  {
   "cell_type": "markdown",
   "id": "a89b5e34-153e-46f5-a45c-86ec0c785c97",
   "metadata": {},
   "source": [
    "<div style=\"border: 2px solid #FFA500; padding: 10px; border-radius: 5px; background-color: #FFFACD; color: black; text-align: center;\">\n",
    "  <h2 style=\"margin: 0;\">Répartition finale des groupes</h2>\n",
    "</div>"
   ]
  },
  {
   "cell_type": "markdown",
   "id": "76e119d7-11b9-4f61-8835-3818e054f663",
   "metadata": {},
   "source": [
    "**On affiche pour chaque groupe la liste des genres des personnes assignées**"
   ]
  },
  {
   "cell_type": "code",
   "execution_count": 10,
   "id": "6e048f16-d305-47ed-9d49-5e5d774c7636",
   "metadata": {},
   "outputs": [
    {
     "name": "stdout",
     "output_type": "stream",
     "text": [
      "Groupe 1 (10 personnes) : ['H', 'NB', 'NB', 'H', 'H', 'F', 'F', 'H', 'H', 'H']\n",
      "Groupe 2 (10 personnes) : ['F', 'NB', 'H', 'NB', 'NB', 'F', 'F', 'H', 'F', 'H']\n",
      "Groupe 3 (10 personnes) : ['H', 'NB', 'NB', 'F', 'H', 'H', 'NB', 'NB', 'F', 'F']\n",
      "Groupe 4 (10 personnes) : ['H', 'NB', 'NB', 'NB', 'NB', 'H', 'NB', 'H', 'F', 'NB']\n",
      "Groupe 5 (10 personnes) : ['NB', 'H', 'NB', 'NB', 'NB', 'NB', 'F', 'F', 'F', 'NB']\n"
     ]
    }
   ],
   "source": [
    "for j in range(N_GROUPES):\n",
    "    membres = [i for i in range(N_INDIVIDUS) if solution_choisie[i][j] == 1]\n",
    "    genres_groupe = [genres[i] for i in membres]\n",
    "    print(f\"Groupe {j+1} ({len(membres)} personnes) : {genres_groupe}\")"
   ]
  },
  {
   "cell_type": "markdown",
   "id": "e0ff2f3f-c4c1-4b76-9867-28a24e68a490",
   "metadata": {},
   "source": [
    "<div style=\"border: 2px solid #FFA500; padding: 10px; border-radius: 5px; background-color: #FFFACD; color: black; text-align: center;\">\n",
    "  <h2 style=\"margin: 0;\">Exportation</h2>\n",
    "</div>"
   ]
  },
  {
   "cell_type": "markdown",
   "id": "c7e9c428-d3c1-4499-b995-15dbdc10cd39",
   "metadata": {},
   "source": [
    "**On sauvegarde la solution retenue dans un fichier CSV nommé *solution_choisie.csv***"
   ]
  },
  {
   "cell_type": "code",
   "execution_count": 11,
   "id": "ecb19005-d3c9-4246-bba2-efe975e27ce5",
   "metadata": {},
   "outputs": [],
   "source": [
    "df_sol = pd.DataFrame(solution_choisie)\n",
    "df_sol.to_csv(\"../data/solution_choisie.csv\", index=False, header=True)"
   ]
  },
  {
   "cell_type": "markdown",
   "id": "ddf218df-a474-47af-b293-335b088ced72",
   "metadata": {},
   "source": [
    "<div style=\"border: 2px solid #FFA500; padding: 10px; border-radius: 5px; background-color: #FFFACD; color: black; text-align: center;\">\n",
    "  <h2 style=\"margin: 0;\">Visualisation équilibre de genre</h2>\n",
    "</div>"
   ]
  },
  {
   "cell_type": "markdown",
   "id": "90bb89a3-ef4d-4933-a1e0-8ea654cc1dac",
   "metadata": {},
   "source": [
    "**On génère un graphique à barres :**\n",
    "- pour la solution tirée au sort\n",
    "- illustre la composition de chaque groupe selon le genre (H/F/N)"
   ]
  },
  {
   "cell_type": "code",
   "execution_count": 12,
   "id": "07b05d76-925f-45c5-9587-0105a6ca46da",
   "metadata": {},
   "outputs": [
    {
     "data": {
      "image/png": "[encoded data removed]",
      "text/plain": [
       "<Figure size 800x600 with 1 Axes>"
      ]
     },
     "metadata": {},
     "output_type": "display_data"
    }
   ],
   "source": [
    "# Préparation des données pour seaborn\n",
    "data_plot = []\n",
    "\n",
    "for j in range(N_GROUPES):\n",
    "    membres = [i for i in range(N_INDIVIDUS) if solution_choisie[i][j] == 1]\n",
    "    counts = {\"H\": 0, \"F\": 0, \"NB\": 0}\n",
    "    for i in membres:\n",
    "        counts[genres[i]] += 1\n",
    "    for genre, count in counts.items():\n",
    "        data_plot.append({\n",
    "            \"Groupe\": f\"Groupe {j+1}\",\n",
    "            \"Genre\": genre,\n",
    "            \"Nombre\": count\n",
    "        })\n",
    "\n",
    "df_plot = pd.DataFrame(data_plot)\n",
    "\n",
    "# Affichage avec seaborn\n",
    "plt.figure(figsize=(8, 6))\n",
    "sns.set_palette(\"colorblind\")\n",
    "\n",
    "barplot = sns.barplot(\n",
    "    data=df_plot,\n",
    "    x=\"Groupe\",\n",
    "    y=\"Nombre\",\n",
    "    hue=\"Genre\",\n",
    "    edgecolor=\"black\",\n",
    "    alpha=0.85\n",
    ")\n",
    "\n",
    "plt.title(\"Répartition des genres par groupe de la solution tirée au sort\")\n",
    "plt.ylabel(\"Nombre d'individus\")\n",
    "plt.xlabel(\"\")\n",
    "plt.legend(title=\"Genre\")\n",
    "plt.tight_layout()\n",
    "# Décommenter la ligne suivante pour exporter le graphique en .png\n",
    "# plt.savefig('GroupRep_GenreEq.png', dpi=300, bbox_inches=\"tight\")\n",
    "plt.show()"
   ]
  },
  {
   "cell_type": "code",
   "execution_count": null,
   "id": "e60af5d7-dce3-4cf6-b714-60b9b8723714",
   "metadata": {},
   "outputs": [],
   "source": []
  }
 ],
 "metadata": {
  "kernelspec": {
   "display_name": "Python 3 (ipykernel)",
   "language": "python",
   "name": "python3"
  },
  "language_info": {
   "codemirror_mode": {
    "name": "ipython",
    "version": 3
   },
   "file_extension": ".py",
   "mimetype": "text/x-python",
   "name": "python",
   "nbconvert_exporter": "python",
   "pygments_lexer": "ipython3",
   "version": "3.11.10"
  }
 },
 "nbformat": 4,
 "nbformat_minor": 5
}
